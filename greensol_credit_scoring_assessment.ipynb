{
 "cells": [
  {
   "cell_type": "markdown",
   "id": "d0fa45c5",
   "metadata": {},
   "source": [
    "# Greensol Credit Scoring Assessment\n",
    "\n",
    "Welcome! This 3-day assessment is designed to evaluate your data analysis, feature engineering, and basic modeling skills using a mock financial transactions dataset.\n",
    "\n",
    "You are expected to:\n",
    "- Clean and preprocess the dataset\n",
    "- Perform exploratory data analysis (EDA)\n",
    "- Engineer features relevant to credit scoring\n",
    "- Calculate a basic monthly credit score for users\n",
    "- (Optional) Propose improvements or insights\n",
    "\n",
    "---"
   ]
  },
  {
   "cell_type": "markdown",
   "id": "df00c44c",
   "metadata": {},
   "source": [
    "## Day 1: Data Cleaning and Exploration\n",
    "\n",
    "1. Load the dataset and inspect the first few rows.\n",
    "2. Check for missing values and inconsistent data.\n",
    "3. Parse and convert dates correctly.\n",
    "4. Identify user behaviors (e.g., number of transactions per month).\n"
   ]
  },
  {
   "cell_type": "code",
   "execution_count": 26,
   "id": "70e87d58",
   "metadata": {},
   "outputs": [
    {
     "data": {
      "text/html": [
       "<div>\n",
       "<style scoped>\n",
       "    .dataframe tbody tr th:only-of-type {\n",
       "        vertical-align: middle;\n",
       "    }\n",
       "\n",
       "    .dataframe tbody tr th {\n",
       "        vertical-align: top;\n",
       "    }\n",
       "\n",
       "    .dataframe thead th {\n",
       "        text-align: right;\n",
       "    }\n",
       "</style>\n",
       "<table border=\"1\" class=\"dataframe\">\n",
       "  <thead>\n",
       "    <tr style=\"text-align: right;\">\n",
       "      <th></th>\n",
       "      <th>user_id</th>\n",
       "      <th>transaction_id</th>\n",
       "      <th>amount</th>\n",
       "      <th>transaction_date</th>\n",
       "      <th>due_date</th>\n",
       "      <th>category</th>\n",
       "      <th>balance</th>\n",
       "      <th>credit_limit</th>\n",
       "    </tr>\n",
       "  </thead>\n",
       "  <tbody>\n",
       "    <tr>\n",
       "      <th>0</th>\n",
       "      <td>a8d341b8-b2ab-42ce-91b3-a9b4b296d411</td>\n",
       "      <td>6b70ecb7-5c0b-4b8c-8693-80e59d708770</td>\n",
       "      <td>2873.95</td>\n",
       "      <td>2024-10-16</td>\n",
       "      <td>2024-10-16</td>\n",
       "      <td>petrol</td>\n",
       "      <td>93440.05</td>\n",
       "      <td>150000</td>\n",
       "    </tr>\n",
       "    <tr>\n",
       "      <th>1</th>\n",
       "      <td>a8d341b8-b2ab-42ce-91b3-a9b4b296d411</td>\n",
       "      <td>c6b4d6c1-5412-4606-b701-fec6cc877909</td>\n",
       "      <td>7388.38</td>\n",
       "      <td>2024-10-19</td>\n",
       "      <td>2024-10-19</td>\n",
       "      <td>solar</td>\n",
       "      <td>88925.62</td>\n",
       "      <td>150000</td>\n",
       "    </tr>\n",
       "    <tr>\n",
       "      <th>2</th>\n",
       "      <td>a8d341b8-b2ab-42ce-91b3-a9b4b296d411</td>\n",
       "      <td>8cc164b3-c51c-4671-a40e-aec2cd93bf49</td>\n",
       "      <td>7645.70</td>\n",
       "      <td>2024-10-09</td>\n",
       "      <td>2024-10-09</td>\n",
       "      <td>petrol</td>\n",
       "      <td>88668.30</td>\n",
       "      <td>150000</td>\n",
       "    </tr>\n",
       "    <tr>\n",
       "      <th>3</th>\n",
       "      <td>a8d341b8-b2ab-42ce-91b3-a9b4b296d411</td>\n",
       "      <td>7bd59bc2-ad16-41df-a417-f3040cdc2f0b</td>\n",
       "      <td>1184.58</td>\n",
       "      <td>2024-10-06</td>\n",
       "      <td>2024-10-04</td>\n",
       "      <td>petrol</td>\n",
       "      <td>95129.42</td>\n",
       "      <td>150000</td>\n",
       "    </tr>\n",
       "    <tr>\n",
       "      <th>4</th>\n",
       "      <td>a8d341b8-b2ab-42ce-91b3-a9b4b296d411</td>\n",
       "      <td>9a9ada38-58cf-43be-82d2-27449a7dc9a4</td>\n",
       "      <td>6699.36</td>\n",
       "      <td>2024-10-30</td>\n",
       "      <td>2024-10-30</td>\n",
       "      <td>petrol</td>\n",
       "      <td>96314.00</td>\n",
       "      <td>150000</td>\n",
       "    </tr>\n",
       "  </tbody>\n",
       "</table>\n",
       "</div>"
      ],
      "text/plain": [
       "                                user_id                        transaction_id  \\\n",
       "0  a8d341b8-b2ab-42ce-91b3-a9b4b296d411  6b70ecb7-5c0b-4b8c-8693-80e59d708770   \n",
       "1  a8d341b8-b2ab-42ce-91b3-a9b4b296d411  c6b4d6c1-5412-4606-b701-fec6cc877909   \n",
       "2  a8d341b8-b2ab-42ce-91b3-a9b4b296d411  8cc164b3-c51c-4671-a40e-aec2cd93bf49   \n",
       "3  a8d341b8-b2ab-42ce-91b3-a9b4b296d411  7bd59bc2-ad16-41df-a417-f3040cdc2f0b   \n",
       "4  a8d341b8-b2ab-42ce-91b3-a9b4b296d411  9a9ada38-58cf-43be-82d2-27449a7dc9a4   \n",
       "\n",
       "    amount transaction_date   due_date category   balance  credit_limit  \n",
       "0  2873.95       2024-10-16 2024-10-16   petrol  93440.05        150000  \n",
       "1  7388.38       2024-10-19 2024-10-19    solar  88925.62        150000  \n",
       "2  7645.70       2024-10-09 2024-10-09   petrol  88668.30        150000  \n",
       "3  1184.58       2024-10-06 2024-10-04   petrol  95129.42        150000  \n",
       "4  6699.36       2024-10-30 2024-10-30   petrol  96314.00        150000  "
      ]
     },
     "execution_count": 26,
     "metadata": {},
     "output_type": "execute_result"
    }
   ],
   "source": [
    "import pandas as pd\n",
    "import matplotlib.pyplot as plt\n",
    "import seaborn as sns\n",
    "\n",
    "# Load dataset\n",
    "df = pd.read_csv(\"greensol_mock_transactions.csv\", parse_dates=['transaction_date', 'due_date'])\n",
    "\n",
    "# Display first few rows\n",
    "df.head()"
   ]
  },
  {
   "cell_type": "markdown",
   "id": "2485964d",
   "metadata": {},
   "source": [
    "> The first 5 rows of the dataframe looks okay for now, containing no missing data."
   ]
  },
  {
   "cell_type": "code",
   "execution_count": 2,
   "id": "4f4a5e6d",
   "metadata": {},
   "outputs": [
    {
     "data": {
      "text/plain": [
       "(6007, 8)"
      ]
     },
     "execution_count": 2,
     "metadata": {},
     "output_type": "execute_result"
    }
   ],
   "source": [
    "df.shape # Provides the number of rows and columns in the DataFrame"
   ]
  },
  {
   "cell_type": "markdown",
   "id": "6401c561",
   "metadata": {},
   "source": [
    "> The dataframe contains 6007 rows and 8 features."
   ]
  },
  {
   "cell_type": "code",
   "execution_count": 3,
   "id": "647de9d9",
   "metadata": {},
   "outputs": [
    {
     "data": {
      "text/html": [
       "<div>\n",
       "<style scoped>\n",
       "    .dataframe tbody tr th:only-of-type {\n",
       "        vertical-align: middle;\n",
       "    }\n",
       "\n",
       "    .dataframe tbody tr th {\n",
       "        vertical-align: top;\n",
       "    }\n",
       "\n",
       "    .dataframe thead th {\n",
       "        text-align: right;\n",
       "    }\n",
       "</style>\n",
       "<table border=\"1\" class=\"dataframe\">\n",
       "  <thead>\n",
       "    <tr style=\"text-align: right;\">\n",
       "      <th></th>\n",
       "      <th>amount</th>\n",
       "      <th>transaction_date</th>\n",
       "      <th>due_date</th>\n",
       "      <th>balance</th>\n",
       "      <th>credit_limit</th>\n",
       "    </tr>\n",
       "  </thead>\n",
       "  <tbody>\n",
       "    <tr>\n",
       "      <th>count</th>\n",
       "      <td>6007.000000</td>\n",
       "      <td>6007</td>\n",
       "      <td>6007</td>\n",
       "      <td>6007.000000</td>\n",
       "      <td>6007.000000</td>\n",
       "    </tr>\n",
       "    <tr>\n",
       "      <th>mean</th>\n",
       "      <td>5189.388463</td>\n",
       "      <td>2024-12-30 10:51:04.824371968</td>\n",
       "      <td>2024-12-30 03:34:32.981521664</td>\n",
       "      <td>64603.873185</td>\n",
       "      <td>132087.564508</td>\n",
       "    </tr>\n",
       "    <tr>\n",
       "      <th>min</th>\n",
       "      <td>502.120000</td>\n",
       "      <td>2024-10-01 00:00:00</td>\n",
       "      <td>2024-09-26 00:00:00</td>\n",
       "      <td>253.060000</td>\n",
       "      <td>50000.000000</td>\n",
       "    </tr>\n",
       "    <tr>\n",
       "      <th>25%</th>\n",
       "      <td>2841.965000</td>\n",
       "      <td>2024-11-15 00:00:00</td>\n",
       "      <td>2024-11-14 12:00:00</td>\n",
       "      <td>26817.380000</td>\n",
       "      <td>100000.000000</td>\n",
       "    </tr>\n",
       "    <tr>\n",
       "      <th>50%</th>\n",
       "      <td>5154.500000</td>\n",
       "      <td>2025-01-01 00:00:00</td>\n",
       "      <td>2025-01-01 00:00:00</td>\n",
       "      <td>50352.880000</td>\n",
       "      <td>150000.000000</td>\n",
       "    </tr>\n",
       "    <tr>\n",
       "      <th>75%</th>\n",
       "      <td>7520.075000</td>\n",
       "      <td>2025-02-14 00:00:00</td>\n",
       "      <td>2025-02-14 00:00:00</td>\n",
       "      <td>94519.820000</td>\n",
       "      <td>200000.000000</td>\n",
       "    </tr>\n",
       "    <tr>\n",
       "      <th>max</th>\n",
       "      <td>9999.620000</td>\n",
       "      <td>2025-03-30 00:00:00</td>\n",
       "      <td>2025-03-30 00:00:00</td>\n",
       "      <td>195311.000000</td>\n",
       "      <td>200000.000000</td>\n",
       "    </tr>\n",
       "    <tr>\n",
       "      <th>std</th>\n",
       "      <td>2723.181388</td>\n",
       "      <td>NaN</td>\n",
       "      <td>NaN</td>\n",
       "      <td>48239.609688</td>\n",
       "      <td>53990.943391</td>\n",
       "    </tr>\n",
       "  </tbody>\n",
       "</table>\n",
       "</div>"
      ],
      "text/plain": [
       "            amount               transaction_date  \\\n",
       "count  6007.000000                           6007   \n",
       "mean   5189.388463  2024-12-30 10:51:04.824371968   \n",
       "min     502.120000            2024-10-01 00:00:00   \n",
       "25%    2841.965000            2024-11-15 00:00:00   \n",
       "50%    5154.500000            2025-01-01 00:00:00   \n",
       "75%    7520.075000            2025-02-14 00:00:00   \n",
       "max    9999.620000            2025-03-30 00:00:00   \n",
       "std    2723.181388                            NaN   \n",
       "\n",
       "                            due_date        balance   credit_limit  \n",
       "count                           6007    6007.000000    6007.000000  \n",
       "mean   2024-12-30 03:34:32.981521664   64603.873185  132087.564508  \n",
       "min              2024-09-26 00:00:00     253.060000   50000.000000  \n",
       "25%              2024-11-14 12:00:00   26817.380000  100000.000000  \n",
       "50%              2025-01-01 00:00:00   50352.880000  150000.000000  \n",
       "75%              2025-02-14 00:00:00   94519.820000  200000.000000  \n",
       "max              2025-03-30 00:00:00  195311.000000  200000.000000  \n",
       "std                              NaN   48239.609688   53990.943391  "
      ]
     },
     "execution_count": 3,
     "metadata": {},
     "output_type": "execute_result"
    }
   ],
   "source": [
    "df.describe() # Get summary statistics"
   ]
  },
  {
   "cell_type": "markdown",
   "id": "9f689624",
   "metadata": {},
   "source": [
    "> The result above shows:\n",
    "\n",
    "- There are no missing values in the columns from the output. (All columns have a count of 6007)\n",
    "- The data was collected between 26th of September, 2024 to 30th of March, 2025.\n",
    "- The output suggests scaling for the *balance* feature in case of model building."
   ]
  },
  {
   "cell_type": "code",
   "execution_count": 4,
   "id": "19709984",
   "metadata": {},
   "outputs": [
    {
     "data": {
      "text/plain": [
       "user_id             0\n",
       "transaction_id      0\n",
       "amount              0\n",
       "transaction_date    0\n",
       "due_date            0\n",
       "category            0\n",
       "balance             0\n",
       "credit_limit        0\n",
       "dtype: int64"
      ]
     },
     "execution_count": 4,
     "metadata": {},
     "output_type": "execute_result"
    }
   ],
   "source": [
    "df.isnull().sum() # Check for missing values"
   ]
  },
  {
   "cell_type": "markdown",
   "id": "6475411c",
   "metadata": {},
   "source": [
    "> Building on previous result, the output here shows that all values of the dataframe are intact - the dataframe contains no missing values."
   ]
  },
  {
   "cell_type": "code",
   "execution_count": 5,
   "id": "fa9855b0",
   "metadata": {},
   "outputs": [
    {
     "name": "stdout",
     "output_type": "stream",
     "text": [
      "<class 'pandas.core.frame.DataFrame'>\n",
      "RangeIndex: 6007 entries, 0 to 6006\n",
      "Data columns (total 8 columns):\n",
      " #   Column            Non-Null Count  Dtype         \n",
      "---  ------            --------------  -----         \n",
      " 0   user_id           6007 non-null   object        \n",
      " 1   transaction_id    6007 non-null   object        \n",
      " 2   amount            6007 non-null   float64       \n",
      " 3   transaction_date  6007 non-null   datetime64[ns]\n",
      " 4   due_date          6007 non-null   datetime64[ns]\n",
      " 5   category          6007 non-null   object        \n",
      " 6   balance           6007 non-null   float64       \n",
      " 7   credit_limit      6007 non-null   int64         \n",
      "dtypes: datetime64[ns](2), float64(2), int64(1), object(3)\n",
      "memory usage: 375.6+ KB\n"
     ]
    }
   ],
   "source": [
    "df.info() # Get info about the DataFrame"
   ]
  },
  {
   "cell_type": "markdown",
   "id": "a3924d84",
   "metadata": {},
   "source": [
    "> The output above shows the data type of each feature in the DataFrame. Looking at the output the data type is appropriate for each feature."
   ]
  },
  {
   "cell_type": "code",
   "execution_count": 6,
   "id": "b4f6bf0b",
   "metadata": {},
   "outputs": [
    {
     "data": {
      "text/plain": [
       "0"
      ]
     },
     "execution_count": 6,
     "metadata": {},
     "output_type": "execute_result"
    }
   ],
   "source": [
    "df.duplicated().sum() # Check for duplicate rows"
   ]
  },
  {
   "cell_type": "markdown",
   "id": "3e1d3531",
   "metadata": {},
   "source": [
    "> The dataframe contains no duplicated value eliminating the risk of misleading results."
   ]
  },
  {
   "cell_type": "code",
   "execution_count": 7,
   "id": "f42ec836",
   "metadata": {},
   "outputs": [
    {
     "data": {
      "text/plain": [
       "(5398, 8)"
      ]
     },
     "execution_count": 7,
     "metadata": {},
     "output_type": "execute_result"
    }
   ],
   "source": [
    "df = df.query('transaction_date <= due_date') # Remove inconsistent rows\n",
    "\n",
    "df.shape"
   ]
  },
  {
   "cell_type": "markdown",
   "id": "78a309bb",
   "metadata": {},
   "source": [
    "> The line of code above filters out the rows where the *transaction_date* is greater that the *due_date*. After this filtering, the number of rows reduced from 6007 to 5398."
   ]
  },
  {
   "cell_type": "code",
   "execution_count": 8,
   "id": "0d22ca1d",
   "metadata": {},
   "outputs": [],
   "source": [
    "df.to_csv(\"greensol_cleaned_transactions.csv\", index=False) # Save cleaned data"
   ]
  },
  {
   "cell_type": "markdown",
   "id": "a8e1aeea",
   "metadata": {},
   "source": [
    "## Day 2: Feature Engineering\n",
    "\n",
    "1. Compute monthly summaries per user (e.g., total spending, number of late payments).\n",
    "2. Calculate credit utilization: `balance / credit_limit`\n",
    "3. Derive features like:\n",
    "   - On-time payment ratio\n",
    "   - Average transaction amount per category\n",
    "   - Spending trends\n",
    "\n",
    "Try to create a feature-rich DataFrame where each row represents a user-month combination."
   ]
  },
  {
   "cell_type": "code",
   "execution_count": 9,
   "id": "7bd5ac79",
   "metadata": {},
   "outputs": [],
   "source": [
    "# Using the cleaned data from Day 1\n",
    "clean_df = pd.read_csv(\"greensol_cleaned_transactions.csv\", parse_dates=['transaction_date', 'due_date'])"
   ]
  },
  {
   "cell_type": "code",
   "execution_count": 10,
   "id": "a73349cf",
   "metadata": {},
   "outputs": [
    {
     "data": {
      "text/plain": [
       "100"
      ]
     },
     "execution_count": 10,
     "metadata": {},
     "output_type": "execute_result"
    }
   ],
   "source": [
    "clean_df['user_id'].nunique() # Count unique users"
   ]
  },
  {
   "cell_type": "markdown",
   "id": "35e0c418",
   "metadata": {},
   "source": [
    "> There are 100 unique users in the dataset - 100 users performed the transactions in the dataset."
   ]
  },
  {
   "cell_type": "code",
   "execution_count": 11,
   "id": "85fcd2c3",
   "metadata": {},
   "outputs": [
    {
     "data": {
      "text/html": [
       "<div>\n",
       "<style scoped>\n",
       "    .dataframe tbody tr th:only-of-type {\n",
       "        vertical-align: middle;\n",
       "    }\n",
       "\n",
       "    .dataframe tbody tr th {\n",
       "        vertical-align: top;\n",
       "    }\n",
       "\n",
       "    .dataframe thead th {\n",
       "        text-align: right;\n",
       "    }\n",
       "</style>\n",
       "<table border=\"1\" class=\"dataframe\">\n",
       "  <thead>\n",
       "    <tr style=\"text-align: right;\">\n",
       "      <th></th>\n",
       "      <th>user_id</th>\n",
       "      <th>amount</th>\n",
       "    </tr>\n",
       "  </thead>\n",
       "  <tbody>\n",
       "    <tr>\n",
       "      <th>20</th>\n",
       "      <td>3072bf60-a683-4e29-a002-bf56eda180cc</td>\n",
       "      <td>375330.70</td>\n",
       "    </tr>\n",
       "    <tr>\n",
       "      <th>11</th>\n",
       "      <td>1c6fd88e-eb61-403c-9c0a-975bd0bec546</td>\n",
       "      <td>362742.10</td>\n",
       "    </tr>\n",
       "    <tr>\n",
       "      <th>2</th>\n",
       "      <td>04447568-9e12-4a63-97bd-dd9b01983e40</td>\n",
       "      <td>356038.61</td>\n",
       "    </tr>\n",
       "    <tr>\n",
       "      <th>72</th>\n",
       "      <td>afbd3145-e57a-4ebe-aa11-6698424e7c30</td>\n",
       "      <td>347863.31</td>\n",
       "    </tr>\n",
       "    <tr>\n",
       "      <th>12</th>\n",
       "      <td>1f59e692-44c7-46df-b8a3-454f50d48d37</td>\n",
       "      <td>344555.65</td>\n",
       "    </tr>\n",
       "    <tr>\n",
       "      <th>...</th>\n",
       "      <td>...</td>\n",
       "      <td>...</td>\n",
       "    </tr>\n",
       "    <tr>\n",
       "      <th>6</th>\n",
       "      <td>0b4c9d23-4bfd-442c-8f75-f1f1ccee9218</td>\n",
       "      <td>219511.05</td>\n",
       "    </tr>\n",
       "    <tr>\n",
       "      <th>88</th>\n",
       "      <td>d970a632-338d-47d6-8b70-bee43053100b</td>\n",
       "      <td>215558.46</td>\n",
       "    </tr>\n",
       "    <tr>\n",
       "      <th>31</th>\n",
       "      <td>41925be3-76d3-4b47-b5d5-79d5bea1bf3b</td>\n",
       "      <td>181665.71</td>\n",
       "    </tr>\n",
       "    <tr>\n",
       "      <th>60</th>\n",
       "      <td>9c5c6f97-bff4-4ef1-be64-c99872cf1c25</td>\n",
       "      <td>175450.32</td>\n",
       "    </tr>\n",
       "    <tr>\n",
       "      <th>83</th>\n",
       "      <td>c887eed6-44f8-4e59-93d3-276e3c4ed410</td>\n",
       "      <td>155376.03</td>\n",
       "    </tr>\n",
       "  </tbody>\n",
       "</table>\n",
       "<p>100 rows × 2 columns</p>\n",
       "</div>"
      ],
      "text/plain": [
       "                                 user_id     amount\n",
       "20  3072bf60-a683-4e29-a002-bf56eda180cc  375330.70\n",
       "11  1c6fd88e-eb61-403c-9c0a-975bd0bec546  362742.10\n",
       "2   04447568-9e12-4a63-97bd-dd9b01983e40  356038.61\n",
       "72  afbd3145-e57a-4ebe-aa11-6698424e7c30  347863.31\n",
       "12  1f59e692-44c7-46df-b8a3-454f50d48d37  344555.65\n",
       "..                                   ...        ...\n",
       "6   0b4c9d23-4bfd-442c-8f75-f1f1ccee9218  219511.05\n",
       "88  d970a632-338d-47d6-8b70-bee43053100b  215558.46\n",
       "31  41925be3-76d3-4b47-b5d5-79d5bea1bf3b  181665.71\n",
       "60  9c5c6f97-bff4-4ef1-be64-c99872cf1c25  175450.32\n",
       "83  c887eed6-44f8-4e59-93d3-276e3c4ed410  155376.03\n",
       "\n",
       "[100 rows x 2 columns]"
      ]
     },
     "execution_count": 11,
     "metadata": {},
     "output_type": "execute_result"
    }
   ],
   "source": [
    "total_spending = clean_df.groupby(['user_id'])['amount'].sum().reset_index()\\\n",
    "                            .sort_values(by='amount', ascending=False)\n",
    "\n",
    "total_spending"
   ]
  },
  {
   "cell_type": "markdown",
   "id": "cc9510e2",
   "metadata": {},
   "source": [
    "> The maximum total spending by a user is *375,330.70* while the minimum amount spent by a user within the time frame is *155,375.03*."
   ]
  },
  {
   "cell_type": "code",
   "execution_count": 28,
   "id": "21eaa896",
   "metadata": {},
   "outputs": [
    {
     "data": {
      "image/png": "[encoded data removed]",
      "text/plain": [
       "<Figure size 640x480 with 1 Axes>"
      ]
     },
     "metadata": {},
     "output_type": "display_data"
    }
   ],
   "source": [
    "sns.barplot(data=total_spending.head(10), y='user_id', x='amount');\n",
    "plt.title(\"Top 10 Users by Total Spending\");"
   ]
  },
  {
   "cell_type": "code",
   "execution_count": 12,
   "id": "ab2ee3d7",
   "metadata": {},
   "outputs": [
    {
     "data": {
      "text/html": [
       "<div>\n",
       "<style scoped>\n",
       "    .dataframe tbody tr th:only-of-type {\n",
       "        vertical-align: middle;\n",
       "    }\n",
       "\n",
       "    .dataframe tbody tr th {\n",
       "        vertical-align: top;\n",
       "    }\n",
       "\n",
       "    .dataframe thead th {\n",
       "        text-align: right;\n",
       "    }\n",
       "</style>\n",
       "<table border=\"1\" class=\"dataframe\">\n",
       "  <thead>\n",
       "    <tr style=\"text-align: right;\">\n",
       "      <th></th>\n",
       "      <th>user_id</th>\n",
       "      <th>transaction_id</th>\n",
       "    </tr>\n",
       "  </thead>\n",
       "  <tbody>\n",
       "    <tr>\n",
       "      <th>99</th>\n",
       "      <td>ffea3378-776f-4e46-b82d-d3ff97f33a38</td>\n",
       "      <td>69</td>\n",
       "    </tr>\n",
       "    <tr>\n",
       "      <th>2</th>\n",
       "      <td>04447568-9e12-4a63-97bd-dd9b01983e40</td>\n",
       "      <td>68</td>\n",
       "    </tr>\n",
       "    <tr>\n",
       "      <th>71</th>\n",
       "      <td>ae35bb0e-3542-43b8-81a0-aa5e2a9827ef</td>\n",
       "      <td>68</td>\n",
       "    </tr>\n",
       "    <tr>\n",
       "      <th>12</th>\n",
       "      <td>1f59e692-44c7-46df-b8a3-454f50d48d37</td>\n",
       "      <td>66</td>\n",
       "    </tr>\n",
       "    <tr>\n",
       "      <th>11</th>\n",
       "      <td>1c6fd88e-eb61-403c-9c0a-975bd0bec546</td>\n",
       "      <td>66</td>\n",
       "    </tr>\n",
       "    <tr>\n",
       "      <th>...</th>\n",
       "      <td>...</td>\n",
       "      <td>...</td>\n",
       "    </tr>\n",
       "    <tr>\n",
       "      <th>56</th>\n",
       "      <td>8f8be672-adc4-463e-87dc-e24d9469effc</td>\n",
       "      <td>43</td>\n",
       "    </tr>\n",
       "    <tr>\n",
       "      <th>33</th>\n",
       "      <td>44d7a811-b6d5-4baf-9529-e24d1a35712e</td>\n",
       "      <td>42</td>\n",
       "    </tr>\n",
       "    <tr>\n",
       "      <th>23</th>\n",
       "      <td>35143260-7257-4d1c-97f5-025d7df76a60</td>\n",
       "      <td>42</td>\n",
       "    </tr>\n",
       "    <tr>\n",
       "      <th>60</th>\n",
       "      <td>9c5c6f97-bff4-4ef1-be64-c99872cf1c25</td>\n",
       "      <td>41</td>\n",
       "    </tr>\n",
       "    <tr>\n",
       "      <th>83</th>\n",
       "      <td>c887eed6-44f8-4e59-93d3-276e3c4ed410</td>\n",
       "      <td>34</td>\n",
       "    </tr>\n",
       "  </tbody>\n",
       "</table>\n",
       "<p>100 rows × 2 columns</p>\n",
       "</div>"
      ],
      "text/plain": [
       "                                 user_id  transaction_id\n",
       "99  ffea3378-776f-4e46-b82d-d3ff97f33a38              69\n",
       "2   04447568-9e12-4a63-97bd-dd9b01983e40              68\n",
       "71  ae35bb0e-3542-43b8-81a0-aa5e2a9827ef              68\n",
       "12  1f59e692-44c7-46df-b8a3-454f50d48d37              66\n",
       "11  1c6fd88e-eb61-403c-9c0a-975bd0bec546              66\n",
       "..                                   ...             ...\n",
       "56  8f8be672-adc4-463e-87dc-e24d9469effc              43\n",
       "33  44d7a811-b6d5-4baf-9529-e24d1a35712e              42\n",
       "23  35143260-7257-4d1c-97f5-025d7df76a60              42\n",
       "60  9c5c6f97-bff4-4ef1-be64-c99872cf1c25              41\n",
       "83  c887eed6-44f8-4e59-93d3-276e3c4ed410              34\n",
       "\n",
       "[100 rows x 2 columns]"
      ]
     },
     "execution_count": 12,
     "metadata": {},
     "output_type": "execute_result"
    }
   ],
   "source": [
    "transaction_per_user = clean_df.groupby(['user_id'])['transaction_id'].count().reset_index()\\\n",
    "                        .sort_values(by='transaction_id', ascending=False)\n",
    "transaction_per_user"
   ]
  },
  {
   "cell_type": "code",
   "execution_count": 33,
   "id": "49a15829",
   "metadata": {},
   "outputs": [
    {
     "data": {
      "image/png": "[encoded data removed]",
      "text/plain": [
       "<Figure size 640x480 with 1 Axes>"
      ]
     },
     "metadata": {},
     "output_type": "display_data"
    }
   ],
   "source": [
    "sns.histplot(data=transaction_per_user, x='transaction_id', bins=10);\n",
    "plt.xlabel(\"Number of Transactions per User\");\n",
    "plt.title(\"Distribution of Transactions per User\");"
   ]
  },
  {
   "cell_type": "markdown",
   "id": "0f4bf528",
   "metadata": {},
   "source": [
    "> Above is the number of transactions per unique users in the dataset sorted in descending order of the number of transactions, within the time frame the data was collected the maximum number of transaction is *69* while the minimum is *34*. \n",
    "\n",
    "> The plot provides additional information - majority of the users made about 56 transactions."
   ]
  },
  {
   "cell_type": "code",
   "execution_count": 13,
   "id": "1d3d160f",
   "metadata": {},
   "outputs": [],
   "source": [
    "clean_df['transaction_month'] = clean_df['transaction_date'].dt.month\n",
    "clean_df['due_month'] = clean_df['due_date'].dt.month"
   ]
  },
  {
   "cell_type": "code",
   "execution_count": 14,
   "id": "a06642ec",
   "metadata": {},
   "outputs": [
    {
     "name": "stdout",
     "output_type": "stream",
     "text": [
      "[10 11 12  1  2  3]\n",
      "[10 11 12  1  2  3]\n"
     ]
    }
   ],
   "source": [
    "print(clean_df['transaction_month'].unique())\n",
    "print(clean_df['due_month'].unique())"
   ]
  },
  {
   "cell_type": "code",
   "execution_count": 15,
   "id": "9324343f",
   "metadata": {},
   "outputs": [
    {
     "name": "stderr",
     "output_type": "stream",
     "text": [
      "C:\\Users\\Aduragbemi\\AppData\\Local\\Temp\\ipykernel_19492\\1741352922.py:3: FutureWarning: A value is trying to be set on a copy of a DataFrame or Series through chained assignment using an inplace method.\n",
      "The behavior will change in pandas 3.0. This inplace method will never work because the intermediate object on which we are setting values always behaves as a copy.\n",
      "\n",
      "For example, when doing 'df[col].method(value, inplace=True)', try using 'df.method({col: value}, inplace=True)' or df[col] = df[col].method(value) instead, to perform the operation inplace on the original object.\n",
      "\n",
      "\n",
      "  clean_df['transaction_month'].replace({\n",
      "C:\\Users\\Aduragbemi\\AppData\\Local\\Temp\\ipykernel_19492\\1741352922.py:12: FutureWarning: A value is trying to be set on a copy of a DataFrame or Series through chained assignment using an inplace method.\n",
      "The behavior will change in pandas 3.0. This inplace method will never work because the intermediate object on which we are setting values always behaves as a copy.\n",
      "\n",
      "For example, when doing 'df[col].method(value, inplace=True)', try using 'df.method({col: value}, inplace=True)' or df[col] = df[col].method(value) instead, to perform the operation inplace on the original object.\n",
      "\n",
      "\n",
      "  clean_df['due_month'].replace({\n"
     ]
    }
   ],
   "source": [
    "# Replace numbers with the month's short name\n",
    "\n",
    "clean_df['transaction_month'].replace({\n",
    "    1: 'Jan',\n",
    "    2: 'Feb',\n",
    "    3: 'Mar',\n",
    "    10: 'Oct',\n",
    "    11: 'Nov',\n",
    "    12: 'Dec'\n",
    "}, inplace=True);\n",
    "\n",
    "clean_df['due_month'].replace({\n",
    "    1: 'Jan',\n",
    "    2: 'Feb',\n",
    "    3: 'Mar',\n",
    "    10: 'Oct',\n",
    "    11: 'Nov',\n",
    "    12: 'Dec'\n",
    "}, inplace=True);"
   ]
  },
  {
   "cell_type": "code",
   "execution_count": 16,
   "id": "50d5e1eb",
   "metadata": {},
   "outputs": [
    {
     "data": {
      "text/html": [
       "<div>\n",
       "<style scoped>\n",
       "    .dataframe tbody tr th:only-of-type {\n",
       "        vertical-align: middle;\n",
       "    }\n",
       "\n",
       "    .dataframe tbody tr th {\n",
       "        vertical-align: top;\n",
       "    }\n",
       "\n",
       "    .dataframe thead th {\n",
       "        text-align: right;\n",
       "    }\n",
       "</style>\n",
       "<table border=\"1\" class=\"dataframe\">\n",
       "  <thead>\n",
       "    <tr style=\"text-align: right;\">\n",
       "      <th></th>\n",
       "      <th>user_id</th>\n",
       "      <th>transaction_month</th>\n",
       "      <th>transaction_id</th>\n",
       "    </tr>\n",
       "  </thead>\n",
       "  <tbody>\n",
       "    <tr>\n",
       "      <th>0</th>\n",
       "      <td>0062ca1b-7573-4160-85ef-838133c0427c</td>\n",
       "      <td>Dec</td>\n",
       "      <td>5</td>\n",
       "    </tr>\n",
       "    <tr>\n",
       "      <th>1</th>\n",
       "      <td>0062ca1b-7573-4160-85ef-838133c0427c</td>\n",
       "      <td>Feb</td>\n",
       "      <td>6</td>\n",
       "    </tr>\n",
       "    <tr>\n",
       "      <th>2</th>\n",
       "      <td>0062ca1b-7573-4160-85ef-838133c0427c</td>\n",
       "      <td>Jan</td>\n",
       "      <td>11</td>\n",
       "    </tr>\n",
       "    <tr>\n",
       "      <th>3</th>\n",
       "      <td>0062ca1b-7573-4160-85ef-838133c0427c</td>\n",
       "      <td>Mar</td>\n",
       "      <td>10</td>\n",
       "    </tr>\n",
       "    <tr>\n",
       "      <th>4</th>\n",
       "      <td>0062ca1b-7573-4160-85ef-838133c0427c</td>\n",
       "      <td>Nov</td>\n",
       "      <td>6</td>\n",
       "    </tr>\n",
       "    <tr>\n",
       "      <th>...</th>\n",
       "      <td>...</td>\n",
       "      <td>...</td>\n",
       "      <td>...</td>\n",
       "    </tr>\n",
       "    <tr>\n",
       "      <th>595</th>\n",
       "      <td>ffea3378-776f-4e46-b82d-d3ff97f33a38</td>\n",
       "      <td>Feb</td>\n",
       "      <td>12</td>\n",
       "    </tr>\n",
       "    <tr>\n",
       "      <th>596</th>\n",
       "      <td>ffea3378-776f-4e46-b82d-d3ff97f33a38</td>\n",
       "      <td>Jan</td>\n",
       "      <td>7</td>\n",
       "    </tr>\n",
       "    <tr>\n",
       "      <th>597</th>\n",
       "      <td>ffea3378-776f-4e46-b82d-d3ff97f33a38</td>\n",
       "      <td>Mar</td>\n",
       "      <td>11</td>\n",
       "    </tr>\n",
       "    <tr>\n",
       "      <th>598</th>\n",
       "      <td>ffea3378-776f-4e46-b82d-d3ff97f33a38</td>\n",
       "      <td>Nov</td>\n",
       "      <td>13</td>\n",
       "    </tr>\n",
       "    <tr>\n",
       "      <th>599</th>\n",
       "      <td>ffea3378-776f-4e46-b82d-d3ff97f33a38</td>\n",
       "      <td>Oct</td>\n",
       "      <td>13</td>\n",
       "    </tr>\n",
       "  </tbody>\n",
       "</table>\n",
       "<p>600 rows × 3 columns</p>\n",
       "</div>"
      ],
      "text/plain": [
       "                                  user_id transaction_month  transaction_id\n",
       "0    0062ca1b-7573-4160-85ef-838133c0427c               Dec               5\n",
       "1    0062ca1b-7573-4160-85ef-838133c0427c               Feb               6\n",
       "2    0062ca1b-7573-4160-85ef-838133c0427c               Jan              11\n",
       "3    0062ca1b-7573-4160-85ef-838133c0427c               Mar              10\n",
       "4    0062ca1b-7573-4160-85ef-838133c0427c               Nov               6\n",
       "..                                    ...               ...             ...\n",
       "595  ffea3378-776f-4e46-b82d-d3ff97f33a38               Feb              12\n",
       "596  ffea3378-776f-4e46-b82d-d3ff97f33a38               Jan               7\n",
       "597  ffea3378-776f-4e46-b82d-d3ff97f33a38               Mar              11\n",
       "598  ffea3378-776f-4e46-b82d-d3ff97f33a38               Nov              13\n",
       "599  ffea3378-776f-4e46-b82d-d3ff97f33a38               Oct              13\n",
       "\n",
       "[600 rows x 3 columns]"
      ]
     },
     "execution_count": 16,
     "metadata": {},
     "output_type": "execute_result"
    }
   ],
   "source": [
    "transaction_per_month = clean_df.groupby(['user_id', 'transaction_month'])['transaction_id']\\\n",
    "                            .count().reset_index()\n",
    "transaction_per_month"
   ]
  },
  {
   "cell_type": "code",
   "execution_count": 17,
   "id": "0a77b1e3",
   "metadata": {},
   "outputs": [
    {
     "data": {
      "text/html": [
       "<div>\n",
       "<style scoped>\n",
       "    .dataframe tbody tr th:only-of-type {\n",
       "        vertical-align: middle;\n",
       "    }\n",
       "\n",
       "    .dataframe tbody tr th {\n",
       "        vertical-align: top;\n",
       "    }\n",
       "\n",
       "    .dataframe thead th {\n",
       "        text-align: right;\n",
       "    }\n",
       "</style>\n",
       "<table border=\"1\" class=\"dataframe\">\n",
       "  <thead>\n",
       "    <tr style=\"text-align: right;\">\n",
       "      <th>transaction_month</th>\n",
       "      <th>Dec</th>\n",
       "      <th>Feb</th>\n",
       "      <th>Jan</th>\n",
       "      <th>Mar</th>\n",
       "      <th>Nov</th>\n",
       "      <th>Oct</th>\n",
       "    </tr>\n",
       "    <tr>\n",
       "      <th>user_id</th>\n",
       "      <th></th>\n",
       "      <th></th>\n",
       "      <th></th>\n",
       "      <th></th>\n",
       "      <th></th>\n",
       "      <th></th>\n",
       "    </tr>\n",
       "  </thead>\n",
       "  <tbody>\n",
       "    <tr>\n",
       "      <th>0062ca1b-7573-4160-85ef-838133c0427c</th>\n",
       "      <td>5</td>\n",
       "      <td>6</td>\n",
       "      <td>11</td>\n",
       "      <td>10</td>\n",
       "      <td>6</td>\n",
       "      <td>9</td>\n",
       "    </tr>\n",
       "    <tr>\n",
       "      <th>0414e594-221d-4329-be87-3fd99f0d9063</th>\n",
       "      <td>5</td>\n",
       "      <td>10</td>\n",
       "      <td>11</td>\n",
       "      <td>8</td>\n",
       "      <td>7</td>\n",
       "      <td>14</td>\n",
       "    </tr>\n",
       "    <tr>\n",
       "      <th>04447568-9e12-4a63-97bd-dd9b01983e40</th>\n",
       "      <td>10</td>\n",
       "      <td>14</td>\n",
       "      <td>12</td>\n",
       "      <td>10</td>\n",
       "      <td>9</td>\n",
       "      <td>13</td>\n",
       "    </tr>\n",
       "    <tr>\n",
       "      <th>050a1bae-93da-4cc8-92e8-9fb17756125d</th>\n",
       "      <td>7</td>\n",
       "      <td>6</td>\n",
       "      <td>11</td>\n",
       "      <td>7</td>\n",
       "      <td>12</td>\n",
       "      <td>5</td>\n",
       "    </tr>\n",
       "    <tr>\n",
       "      <th>053d332e-0a01-4d5e-900a-ec02f85ffec2</th>\n",
       "      <td>6</td>\n",
       "      <td>11</td>\n",
       "      <td>13</td>\n",
       "      <td>10</td>\n",
       "      <td>6</td>\n",
       "      <td>13</td>\n",
       "    </tr>\n",
       "    <tr>\n",
       "      <th>...</th>\n",
       "      <td>...</td>\n",
       "      <td>...</td>\n",
       "      <td>...</td>\n",
       "      <td>...</td>\n",
       "      <td>...</td>\n",
       "      <td>...</td>\n",
       "    </tr>\n",
       "    <tr>\n",
       "      <th>ec163be2-2504-43fa-8d7a-027d6f614089</th>\n",
       "      <td>9</td>\n",
       "      <td>14</td>\n",
       "      <td>14</td>\n",
       "      <td>3</td>\n",
       "      <td>10</td>\n",
       "      <td>7</td>\n",
       "    </tr>\n",
       "    <tr>\n",
       "      <th>ee3497aa-35d4-4de5-9ceb-f3946d031746</th>\n",
       "      <td>14</td>\n",
       "      <td>12</td>\n",
       "      <td>10</td>\n",
       "      <td>9</td>\n",
       "      <td>10</td>\n",
       "      <td>5</td>\n",
       "    </tr>\n",
       "    <tr>\n",
       "      <th>f88b8c6f-2a02-4502-b953-34b4699a1770</th>\n",
       "      <td>9</td>\n",
       "      <td>11</td>\n",
       "      <td>8</td>\n",
       "      <td>14</td>\n",
       "      <td>12</td>\n",
       "      <td>9</td>\n",
       "    </tr>\n",
       "    <tr>\n",
       "      <th>fcbd9e07-2c52-4628-822d-862f412cf681</th>\n",
       "      <td>7</td>\n",
       "      <td>7</td>\n",
       "      <td>11</td>\n",
       "      <td>7</td>\n",
       "      <td>10</td>\n",
       "      <td>8</td>\n",
       "    </tr>\n",
       "    <tr>\n",
       "      <th>ffea3378-776f-4e46-b82d-d3ff97f33a38</th>\n",
       "      <td>13</td>\n",
       "      <td>12</td>\n",
       "      <td>7</td>\n",
       "      <td>11</td>\n",
       "      <td>13</td>\n",
       "      <td>13</td>\n",
       "    </tr>\n",
       "  </tbody>\n",
       "</table>\n",
       "<p>100 rows × 6 columns</p>\n",
       "</div>"
      ],
      "text/plain": [
       "transaction_month                     Dec  Feb  Jan  Mar  Nov  Oct\n",
       "user_id                                                           \n",
       "0062ca1b-7573-4160-85ef-838133c0427c    5    6   11   10    6    9\n",
       "0414e594-221d-4329-be87-3fd99f0d9063    5   10   11    8    7   14\n",
       "04447568-9e12-4a63-97bd-dd9b01983e40   10   14   12   10    9   13\n",
       "050a1bae-93da-4cc8-92e8-9fb17756125d    7    6   11    7   12    5\n",
       "053d332e-0a01-4d5e-900a-ec02f85ffec2    6   11   13   10    6   13\n",
       "...                                   ...  ...  ...  ...  ...  ...\n",
       "ec163be2-2504-43fa-8d7a-027d6f614089    9   14   14    3   10    7\n",
       "ee3497aa-35d4-4de5-9ceb-f3946d031746   14   12   10    9   10    5\n",
       "f88b8c6f-2a02-4502-b953-34b4699a1770    9   11    8   14   12    9\n",
       "fcbd9e07-2c52-4628-822d-862f412cf681    7    7   11    7   10    8\n",
       "ffea3378-776f-4e46-b82d-d3ff97f33a38   13   12    7   11   13   13\n",
       "\n",
       "[100 rows x 6 columns]"
      ]
     },
     "execution_count": 17,
     "metadata": {},
     "output_type": "execute_result"
    }
   ],
   "source": [
    "transaction_per_month = transaction_per_month.pivot(index='user_id', \n",
    "                                                    columns='transaction_month', \n",
    "                                                    values='transaction_id')\n",
    "\n",
    "transaction_per_month"
   ]
  },
  {
   "cell_type": "markdown",
   "id": "69249084",
   "metadata": {},
   "source": [
    "> In other to calculate the number of transaction per month for each user, the month feature was first extracted from the *transaction_date*, the number representation of the month was converted to the month's short form, the data was grouped by the *user_id* and the *transaction_month*, the number of transactions was then counted and the data was converted to wide format."
   ]
  },
  {
   "cell_type": "code",
   "execution_count": 39,
   "id": "568fb5bf",
   "metadata": {},
   "outputs": [
    {
     "data": {
      "text/html": [
       "<div>\n",
       "<style scoped>\n",
       "    .dataframe tbody tr th:only-of-type {\n",
       "        vertical-align: middle;\n",
       "    }\n",
       "\n",
       "    .dataframe tbody tr th {\n",
       "        vertical-align: top;\n",
       "    }\n",
       "\n",
       "    .dataframe thead th {\n",
       "        text-align: right;\n",
       "    }\n",
       "</style>\n",
       "<table border=\"1\" class=\"dataframe\">\n",
       "  <thead>\n",
       "    <tr style=\"text-align: right;\">\n",
       "      <th></th>\n",
       "      <th>transaction_month</th>\n",
       "      <th>month_total</th>\n",
       "    </tr>\n",
       "  </thead>\n",
       "  <tbody>\n",
       "    <tr>\n",
       "      <th>0</th>\n",
       "      <td>Jan</td>\n",
       "      <td>918</td>\n",
       "    </tr>\n",
       "    <tr>\n",
       "      <th>1</th>\n",
       "      <td>Nov</td>\n",
       "      <td>911</td>\n",
       "    </tr>\n",
       "    <tr>\n",
       "      <th>2</th>\n",
       "      <td>Mar</td>\n",
       "      <td>910</td>\n",
       "    </tr>\n",
       "    <tr>\n",
       "      <th>3</th>\n",
       "      <td>Feb</td>\n",
       "      <td>894</td>\n",
       "    </tr>\n",
       "    <tr>\n",
       "      <th>4</th>\n",
       "      <td>Oct</td>\n",
       "      <td>894</td>\n",
       "    </tr>\n",
       "    <tr>\n",
       "      <th>5</th>\n",
       "      <td>Dec</td>\n",
       "      <td>871</td>\n",
       "    </tr>\n",
       "  </tbody>\n",
       "</table>\n",
       "</div>"
      ],
      "text/plain": [
       "  transaction_month  month_total\n",
       "0               Jan          918\n",
       "1               Nov          911\n",
       "2               Mar          910\n",
       "3               Feb          894\n",
       "4               Oct          894\n",
       "5               Dec          871"
      ]
     },
     "execution_count": 39,
     "metadata": {},
     "output_type": "execute_result"
    }
   ],
   "source": [
    "cum_month = transaction_per_month.sum().sort_values(ascending=False).reset_index(name='month_total')\n",
    "cum_month"
   ]
  },
  {
   "cell_type": "code",
   "execution_count": 45,
   "id": "80e6bab7",
   "metadata": {},
   "outputs": [
    {
     "data": {
      "image/png": "[encoded data removed]",
      "text/plain": [
       "<Figure size 640x480 with 1 Axes>"
      ]
     },
     "metadata": {},
     "output_type": "display_data"
    }
   ],
   "source": [
    "sns.barplot(data=cum_month, x='transaction_month', y='month_total');\n",
    "plt.title(\"Total Transactions per Month\");\n",
    "plt.xlabel(\"Month\");\n",
    "plt.ylabel(\"Total Transactions\");\n",
    "plt.ylim(850, 930);"
   ]
  },
  {
   "cell_type": "markdown",
   "id": "93e2051a",
   "metadata": {},
   "source": [
    "> The result above shows the number of transactions that occured per month arranged in descending order. The output reveals January is the month with the most transaction made which is quite intuitive.\n",
    "\n",
    "> I altered the y-axis of the plot to make difference between the values evident."
   ]
  },
  {
   "cell_type": "code",
   "execution_count": 19,
   "id": "2401dc42",
   "metadata": {},
   "outputs": [
    {
     "data": {
      "text/html": [
       "<div>\n",
       "<style scoped>\n",
       "    .dataframe tbody tr th:only-of-type {\n",
       "        vertical-align: middle;\n",
       "    }\n",
       "\n",
       "    .dataframe tbody tr th {\n",
       "        vertical-align: top;\n",
       "    }\n",
       "\n",
       "    .dataframe thead th {\n",
       "        text-align: right;\n",
       "    }\n",
       "</style>\n",
       "<table border=\"1\" class=\"dataframe\">\n",
       "  <thead>\n",
       "    <tr style=\"text-align: right;\">\n",
       "      <th>transaction_month</th>\n",
       "      <th>Dec</th>\n",
       "      <th>Feb</th>\n",
       "      <th>Jan</th>\n",
       "      <th>Mar</th>\n",
       "      <th>Nov</th>\n",
       "      <th>Oct</th>\n",
       "    </tr>\n",
       "    <tr>\n",
       "      <th>user_id</th>\n",
       "      <th></th>\n",
       "      <th></th>\n",
       "      <th></th>\n",
       "      <th></th>\n",
       "      <th></th>\n",
       "      <th></th>\n",
       "    </tr>\n",
       "  </thead>\n",
       "  <tbody>\n",
       "    <tr>\n",
       "      <th>0062ca1b-7573-4160-85ef-838133c0427c</th>\n",
       "      <td>6704.84</td>\n",
       "      <td>4500.36</td>\n",
       "      <td>3940.64</td>\n",
       "      <td>3956.66</td>\n",
       "      <td>5334.74</td>\n",
       "      <td>5909.34</td>\n",
       "    </tr>\n",
       "    <tr>\n",
       "      <th>0414e594-221d-4329-be87-3fd99f0d9063</th>\n",
       "      <td>3614.01</td>\n",
       "      <td>5522.98</td>\n",
       "      <td>5013.91</td>\n",
       "      <td>4204.71</td>\n",
       "      <td>6886.57</td>\n",
       "      <td>5247.14</td>\n",
       "    </tr>\n",
       "    <tr>\n",
       "      <th>04447568-9e12-4a63-97bd-dd9b01983e40</th>\n",
       "      <td>5683.71</td>\n",
       "      <td>5003.68</td>\n",
       "      <td>4865.56</td>\n",
       "      <td>5488.37</td>\n",
       "      <td>5584.28</td>\n",
       "      <td>5047.77</td>\n",
       "    </tr>\n",
       "    <tr>\n",
       "      <th>050a1bae-93da-4cc8-92e8-9fb17756125d</th>\n",
       "      <td>3458.22</td>\n",
       "      <td>7006.30</td>\n",
       "      <td>4903.32</td>\n",
       "      <td>5991.04</td>\n",
       "      <td>6549.99</td>\n",
       "      <td>6426.48</td>\n",
       "    </tr>\n",
       "    <tr>\n",
       "      <th>053d332e-0a01-4d5e-900a-ec02f85ffec2</th>\n",
       "      <td>5300.38</td>\n",
       "      <td>5489.55</td>\n",
       "      <td>6511.64</td>\n",
       "      <td>4660.75</td>\n",
       "      <td>3709.85</td>\n",
       "      <td>5367.44</td>\n",
       "    </tr>\n",
       "    <tr>\n",
       "      <th>...</th>\n",
       "      <td>...</td>\n",
       "      <td>...</td>\n",
       "      <td>...</td>\n",
       "      <td>...</td>\n",
       "      <td>...</td>\n",
       "      <td>...</td>\n",
       "    </tr>\n",
       "    <tr>\n",
       "      <th>ec163be2-2504-43fa-8d7a-027d6f614089</th>\n",
       "      <td>7356.61</td>\n",
       "      <td>5472.62</td>\n",
       "      <td>5726.67</td>\n",
       "      <td>3332.87</td>\n",
       "      <td>4068.24</td>\n",
       "      <td>4530.34</td>\n",
       "    </tr>\n",
       "    <tr>\n",
       "      <th>ee3497aa-35d4-4de5-9ceb-f3946d031746</th>\n",
       "      <td>5675.28</td>\n",
       "      <td>4476.62</td>\n",
       "      <td>6013.17</td>\n",
       "      <td>4577.58</td>\n",
       "      <td>5896.44</td>\n",
       "      <td>4772.63</td>\n",
       "    </tr>\n",
       "    <tr>\n",
       "      <th>f88b8c6f-2a02-4502-b953-34b4699a1770</th>\n",
       "      <td>5536.91</td>\n",
       "      <td>5010.17</td>\n",
       "      <td>4104.03</td>\n",
       "      <td>3902.23</td>\n",
       "      <td>5345.16</td>\n",
       "      <td>5042.19</td>\n",
       "    </tr>\n",
       "    <tr>\n",
       "      <th>fcbd9e07-2c52-4628-822d-862f412cf681</th>\n",
       "      <td>3378.47</td>\n",
       "      <td>3190.81</td>\n",
       "      <td>4677.97</td>\n",
       "      <td>6064.07</td>\n",
       "      <td>5418.33</td>\n",
       "      <td>3600.91</td>\n",
       "    </tr>\n",
       "    <tr>\n",
       "      <th>ffea3378-776f-4e46-b82d-d3ff97f33a38</th>\n",
       "      <td>3641.81</td>\n",
       "      <td>4656.72</td>\n",
       "      <td>4980.07</td>\n",
       "      <td>4732.25</td>\n",
       "      <td>4850.69</td>\n",
       "      <td>4725.99</td>\n",
       "    </tr>\n",
       "  </tbody>\n",
       "</table>\n",
       "<p>100 rows × 6 columns</p>\n",
       "</div>"
      ],
      "text/plain": [
       "transaction_month                         Dec      Feb      Jan      Mar  \\\n",
       "user_id                                                                    \n",
       "0062ca1b-7573-4160-85ef-838133c0427c  6704.84  4500.36  3940.64  3956.66   \n",
       "0414e594-221d-4329-be87-3fd99f0d9063  3614.01  5522.98  5013.91  4204.71   \n",
       "04447568-9e12-4a63-97bd-dd9b01983e40  5683.71  5003.68  4865.56  5488.37   \n",
       "050a1bae-93da-4cc8-92e8-9fb17756125d  3458.22  7006.30  4903.32  5991.04   \n",
       "053d332e-0a01-4d5e-900a-ec02f85ffec2  5300.38  5489.55  6511.64  4660.75   \n",
       "...                                       ...      ...      ...      ...   \n",
       "ec163be2-2504-43fa-8d7a-027d6f614089  7356.61  5472.62  5726.67  3332.87   \n",
       "ee3497aa-35d4-4de5-9ceb-f3946d031746  5675.28  4476.62  6013.17  4577.58   \n",
       "f88b8c6f-2a02-4502-b953-34b4699a1770  5536.91  5010.17  4104.03  3902.23   \n",
       "fcbd9e07-2c52-4628-822d-862f412cf681  3378.47  3190.81  4677.97  6064.07   \n",
       "ffea3378-776f-4e46-b82d-d3ff97f33a38  3641.81  4656.72  4980.07  4732.25   \n",
       "\n",
       "transaction_month                         Nov      Oct  \n",
       "user_id                                                 \n",
       "0062ca1b-7573-4160-85ef-838133c0427c  5334.74  5909.34  \n",
       "0414e594-221d-4329-be87-3fd99f0d9063  6886.57  5247.14  \n",
       "04447568-9e12-4a63-97bd-dd9b01983e40  5584.28  5047.77  \n",
       "050a1bae-93da-4cc8-92e8-9fb17756125d  6549.99  6426.48  \n",
       "053d332e-0a01-4d5e-900a-ec02f85ffec2  3709.85  5367.44  \n",
       "...                                       ...      ...  \n",
       "ec163be2-2504-43fa-8d7a-027d6f614089  4068.24  4530.34  \n",
       "ee3497aa-35d4-4de5-9ceb-f3946d031746  5896.44  4772.63  \n",
       "f88b8c6f-2a02-4502-b953-34b4699a1770  5345.16  5042.19  \n",
       "fcbd9e07-2c52-4628-822d-862f412cf681  5418.33  3600.91  \n",
       "ffea3378-776f-4e46-b82d-d3ff97f33a38  4850.69  4725.99  \n",
       "\n",
       "[100 rows x 6 columns]"
      ]
     },
     "execution_count": 19,
     "metadata": {},
     "output_type": "execute_result"
    }
   ],
   "source": [
    "amount_per_month = clean_df.groupby(['user_id', 'transaction_month'])['amount'].mean().round(2)\n",
    "\n",
    "amount_per_month = amount_per_month.reset_index().pivot(index='user_id', columns='transaction_month',\n",
    "                                values='amount')\n",
    "amount_per_month"
   ]
  },
  {
   "cell_type": "code",
   "execution_count": 20,
   "id": "d0bf3151",
   "metadata": {},
   "outputs": [
    {
     "data": {
      "text/plain": [
       "transaction_month\n",
       "Nov    527050.16\n",
       "Oct    518040.39\n",
       "Jan    518010.23\n",
       "Dec    516208.58\n",
       "Mar    510131.15\n",
       "Feb    505624.48\n",
       "dtype: float64"
      ]
     },
     "execution_count": 20,
     "metadata": {},
     "output_type": "execute_result"
    }
   ],
   "source": [
    "amount_per_month.sum().sort_values(ascending=False)"
   ]
  },
  {
   "cell_type": "markdown",
   "id": "aca9d82d",
   "metadata": {},
   "source": [
    "> While the previous output showed that January was the month with most transactions, the above result shows more transactions doesn't translate to more spending. The month with the most spending is **November**."
   ]
  },
  {
   "cell_type": "code",
   "execution_count": 21,
   "id": "96e7ddcf",
   "metadata": {},
   "outputs": [
    {
     "data": {
      "text/html": [
       "<div>\n",
       "<style scoped>\n",
       "    .dataframe tbody tr th:only-of-type {\n",
       "        vertical-align: middle;\n",
       "    }\n",
       "\n",
       "    .dataframe tbody tr th {\n",
       "        vertical-align: top;\n",
       "    }\n",
       "\n",
       "    .dataframe thead th {\n",
       "        text-align: right;\n",
       "    }\n",
       "</style>\n",
       "<table border=\"1\" class=\"dataframe\">\n",
       "  <thead>\n",
       "    <tr style=\"text-align: right;\">\n",
       "      <th>category</th>\n",
       "      <th>other</th>\n",
       "      <th>petrol</th>\n",
       "      <th>rent</th>\n",
       "      <th>solar</th>\n",
       "      <th>subscription</th>\n",
       "      <th>utility</th>\n",
       "    </tr>\n",
       "    <tr>\n",
       "      <th>user_id</th>\n",
       "      <th></th>\n",
       "      <th></th>\n",
       "      <th></th>\n",
       "      <th></th>\n",
       "      <th></th>\n",
       "      <th></th>\n",
       "    </tr>\n",
       "  </thead>\n",
       "  <tbody>\n",
       "    <tr>\n",
       "      <th>0062ca1b-7573-4160-85ef-838133c0427c</th>\n",
       "      <td>12499.22</td>\n",
       "      <td>92853.22</td>\n",
       "      <td>43581.34</td>\n",
       "      <td>27478.10</td>\n",
       "      <td>17900.19</td>\n",
       "      <td>34320.55</td>\n",
       "    </tr>\n",
       "    <tr>\n",
       "      <th>0414e594-221d-4329-be87-3fd99f0d9063</th>\n",
       "      <td>17106.63</td>\n",
       "      <td>70839.47</td>\n",
       "      <td>40035.97</td>\n",
       "      <td>43588.92</td>\n",
       "      <td>65146.67</td>\n",
       "      <td>47038.74</td>\n",
       "    </tr>\n",
       "    <tr>\n",
       "      <th>04447568-9e12-4a63-97bd-dd9b01983e40</th>\n",
       "      <td>32086.33</td>\n",
       "      <td>103965.47</td>\n",
       "      <td>70924.86</td>\n",
       "      <td>53883.30</td>\n",
       "      <td>27548.94</td>\n",
       "      <td>67629.71</td>\n",
       "    </tr>\n",
       "    <tr>\n",
       "      <th>050a1bae-93da-4cc8-92e8-9fb17756125d</th>\n",
       "      <td>62272.75</td>\n",
       "      <td>66017.46</td>\n",
       "      <td>82307.88</td>\n",
       "      <td>20134.22</td>\n",
       "      <td>25265.70</td>\n",
       "      <td>16853.39</td>\n",
       "    </tr>\n",
       "    <tr>\n",
       "      <th>053d332e-0a01-4d5e-900a-ec02f85ffec2</th>\n",
       "      <td>24317.94</td>\n",
       "      <td>109864.35</td>\n",
       "      <td>48364.78</td>\n",
       "      <td>47185.07</td>\n",
       "      <td>34684.24</td>\n",
       "      <td>51065.62</td>\n",
       "    </tr>\n",
       "    <tr>\n",
       "      <th>...</th>\n",
       "      <td>...</td>\n",
       "      <td>...</td>\n",
       "      <td>...</td>\n",
       "      <td>...</td>\n",
       "      <td>...</td>\n",
       "      <td>...</td>\n",
       "    </tr>\n",
       "    <tr>\n",
       "      <th>ec163be2-2504-43fa-8d7a-027d6f614089</th>\n",
       "      <td>27918.04</td>\n",
       "      <td>71494.75</td>\n",
       "      <td>36425.84</td>\n",
       "      <td>58829.19</td>\n",
       "      <td>25999.77</td>\n",
       "      <td>84725.37</td>\n",
       "    </tr>\n",
       "    <tr>\n",
       "      <th>ee3497aa-35d4-4de5-9ceb-f3946d031746</th>\n",
       "      <td>30958.14</td>\n",
       "      <td>110537.55</td>\n",
       "      <td>46638.34</td>\n",
       "      <td>13669.45</td>\n",
       "      <td>49413.16</td>\n",
       "      <td>66114.19</td>\n",
       "    </tr>\n",
       "    <tr>\n",
       "      <th>f88b8c6f-2a02-4502-b953-34b4699a1770</th>\n",
       "      <td>54099.33</td>\n",
       "      <td>77003.35</td>\n",
       "      <td>24039.91</td>\n",
       "      <td>32908.06</td>\n",
       "      <td>49599.91</td>\n",
       "      <td>64278.64</td>\n",
       "    </tr>\n",
       "    <tr>\n",
       "      <th>fcbd9e07-2c52-4628-822d-862f412cf681</th>\n",
       "      <td>17735.53</td>\n",
       "      <td>71721.83</td>\n",
       "      <td>18457.82</td>\n",
       "      <td>21728.75</td>\n",
       "      <td>39361.18</td>\n",
       "      <td>53876.59</td>\n",
       "    </tr>\n",
       "    <tr>\n",
       "      <th>ffea3378-776f-4e46-b82d-d3ff97f33a38</th>\n",
       "      <td>47590.69</td>\n",
       "      <td>83639.99</td>\n",
       "      <td>66507.32</td>\n",
       "      <td>44437.41</td>\n",
       "      <td>14282.63</td>\n",
       "      <td>58178.28</td>\n",
       "    </tr>\n",
       "  </tbody>\n",
       "</table>\n",
       "<p>100 rows × 6 columns</p>\n",
       "</div>"
      ],
      "text/plain": [
       "category                                 other     petrol      rent     solar  \\\n",
       "user_id                                                                         \n",
       "0062ca1b-7573-4160-85ef-838133c0427c  12499.22   92853.22  43581.34  27478.10   \n",
       "0414e594-221d-4329-be87-3fd99f0d9063  17106.63   70839.47  40035.97  43588.92   \n",
       "04447568-9e12-4a63-97bd-dd9b01983e40  32086.33  103965.47  70924.86  53883.30   \n",
       "050a1bae-93da-4cc8-92e8-9fb17756125d  62272.75   66017.46  82307.88  20134.22   \n",
       "053d332e-0a01-4d5e-900a-ec02f85ffec2  24317.94  109864.35  48364.78  47185.07   \n",
       "...                                        ...        ...       ...       ...   \n",
       "ec163be2-2504-43fa-8d7a-027d6f614089  27918.04   71494.75  36425.84  58829.19   \n",
       "ee3497aa-35d4-4de5-9ceb-f3946d031746  30958.14  110537.55  46638.34  13669.45   \n",
       "f88b8c6f-2a02-4502-b953-34b4699a1770  54099.33   77003.35  24039.91  32908.06   \n",
       "fcbd9e07-2c52-4628-822d-862f412cf681  17735.53   71721.83  18457.82  21728.75   \n",
       "ffea3378-776f-4e46-b82d-d3ff97f33a38  47590.69   83639.99  66507.32  44437.41   \n",
       "\n",
       "category                              subscription   utility  \n",
       "user_id                                                       \n",
       "0062ca1b-7573-4160-85ef-838133c0427c      17900.19  34320.55  \n",
       "0414e594-221d-4329-be87-3fd99f0d9063      65146.67  47038.74  \n",
       "04447568-9e12-4a63-97bd-dd9b01983e40      27548.94  67629.71  \n",
       "050a1bae-93da-4cc8-92e8-9fb17756125d      25265.70  16853.39  \n",
       "053d332e-0a01-4d5e-900a-ec02f85ffec2      34684.24  51065.62  \n",
       "...                                            ...       ...  \n",
       "ec163be2-2504-43fa-8d7a-027d6f614089      25999.77  84725.37  \n",
       "ee3497aa-35d4-4de5-9ceb-f3946d031746      49413.16  66114.19  \n",
       "f88b8c6f-2a02-4502-b953-34b4699a1770      49599.91  64278.64  \n",
       "fcbd9e07-2c52-4628-822d-862f412cf681      39361.18  53876.59  \n",
       "ffea3378-776f-4e46-b82d-d3ff97f33a38      14282.63  58178.28  \n",
       "\n",
       "[100 rows x 6 columns]"
      ]
     },
     "execution_count": 21,
     "metadata": {},
     "output_type": "execute_result"
    }
   ],
   "source": [
    "category_spending = clean_df.groupby(['user_id', 'category'])['amount'].sum()\\\n",
    "                        .reset_index().pivot(index='user_id', columns='category', values='amount')\n",
    "\n",
    "category_spending"
   ]
  },
  {
   "cell_type": "code",
   "execution_count": 22,
   "id": "b6e4562f",
   "metadata": {},
   "outputs": [
    {
     "data": {
      "text/plain": [
       "category\n",
       "petrol          8419891.36\n",
       "utility         5419346.60\n",
       "solar           4165163.37\n",
       "rent            4152607.05\n",
       "other           2933575.76\n",
       "subscription    2769083.26\n",
       "dtype: float64"
      ]
     },
     "execution_count": 22,
     "metadata": {},
     "output_type": "execute_result"
    }
   ],
   "source": [
    "category_spending.sum().sort_values(ascending=False)"
   ]
  },
  {
   "cell_type": "markdown",
   "id": "69be77d7",
   "metadata": {},
   "source": [
    "> Output shows that *petrol* is the leading category among the users."
   ]
  },
  {
   "cell_type": "code",
   "execution_count": 50,
   "id": "73129d7a",
   "metadata": {},
   "outputs": [
    {
     "data": {
      "text/html": [
       "<div>\n",
       "<style scoped>\n",
       "    .dataframe tbody tr th:only-of-type {\n",
       "        vertical-align: middle;\n",
       "    }\n",
       "\n",
       "    .dataframe tbody tr th {\n",
       "        vertical-align: top;\n",
       "    }\n",
       "\n",
       "    .dataframe thead th {\n",
       "        text-align: right;\n",
       "    }\n",
       "</style>\n",
       "<table border=\"1\" class=\"dataframe\">\n",
       "  <thead>\n",
       "    <tr style=\"text-align: right;\">\n",
       "      <th></th>\n",
       "      <th>user_id</th>\n",
       "      <th>transaction_id</th>\n",
       "      <th>amount</th>\n",
       "      <th>transaction_date</th>\n",
       "      <th>due_date</th>\n",
       "      <th>category</th>\n",
       "      <th>balance</th>\n",
       "      <th>credit_limit</th>\n",
       "      <th>transaction_month</th>\n",
       "      <th>due_month</th>\n",
       "      <th>credit_util</th>\n",
       "    </tr>\n",
       "  </thead>\n",
       "  <tbody>\n",
       "    <tr>\n",
       "      <th>0</th>\n",
       "      <td>a8d341b8-b2ab-42ce-91b3-a9b4b296d411</td>\n",
       "      <td>6b70ecb7-5c0b-4b8c-8693-80e59d708770</td>\n",
       "      <td>2873.95</td>\n",
       "      <td>2024-10-16</td>\n",
       "      <td>2024-10-16</td>\n",
       "      <td>petrol</td>\n",
       "      <td>93440.05</td>\n",
       "      <td>150000</td>\n",
       "      <td>Oct</td>\n",
       "      <td>Oct</td>\n",
       "      <td>0.623</td>\n",
       "    </tr>\n",
       "    <tr>\n",
       "      <th>1</th>\n",
       "      <td>a8d341b8-b2ab-42ce-91b3-a9b4b296d411</td>\n",
       "      <td>c6b4d6c1-5412-4606-b701-fec6cc877909</td>\n",
       "      <td>7388.38</td>\n",
       "      <td>2024-10-19</td>\n",
       "      <td>2024-10-19</td>\n",
       "      <td>solar</td>\n",
       "      <td>88925.62</td>\n",
       "      <td>150000</td>\n",
       "      <td>Oct</td>\n",
       "      <td>Oct</td>\n",
       "      <td>0.593</td>\n",
       "    </tr>\n",
       "    <tr>\n",
       "      <th>2</th>\n",
       "      <td>a8d341b8-b2ab-42ce-91b3-a9b4b296d411</td>\n",
       "      <td>8cc164b3-c51c-4671-a40e-aec2cd93bf49</td>\n",
       "      <td>7645.70</td>\n",
       "      <td>2024-10-09</td>\n",
       "      <td>2024-10-09</td>\n",
       "      <td>petrol</td>\n",
       "      <td>88668.30</td>\n",
       "      <td>150000</td>\n",
       "      <td>Oct</td>\n",
       "      <td>Oct</td>\n",
       "      <td>0.591</td>\n",
       "    </tr>\n",
       "    <tr>\n",
       "      <th>3</th>\n",
       "      <td>a8d341b8-b2ab-42ce-91b3-a9b4b296d411</td>\n",
       "      <td>9a9ada38-58cf-43be-82d2-27449a7dc9a4</td>\n",
       "      <td>6699.36</td>\n",
       "      <td>2024-10-30</td>\n",
       "      <td>2024-10-30</td>\n",
       "      <td>petrol</td>\n",
       "      <td>96314.00</td>\n",
       "      <td>150000</td>\n",
       "      <td>Oct</td>\n",
       "      <td>Oct</td>\n",
       "      <td>0.642</td>\n",
       "    </tr>\n",
       "    <tr>\n",
       "      <th>4</th>\n",
       "      <td>a8d341b8-b2ab-42ce-91b3-a9b4b296d411</td>\n",
       "      <td>daf2de00-0447-4a32-8d80-36a3ce43ef51</td>\n",
       "      <td>787.40</td>\n",
       "      <td>2024-10-24</td>\n",
       "      <td>2024-10-24</td>\n",
       "      <td>subscription</td>\n",
       "      <td>96314.00</td>\n",
       "      <td>150000</td>\n",
       "      <td>Oct</td>\n",
       "      <td>Oct</td>\n",
       "      <td>0.642</td>\n",
       "    </tr>\n",
       "  </tbody>\n",
       "</table>\n",
       "</div>"
      ],
      "text/plain": [
       "                                user_id                        transaction_id  \\\n",
       "0  a8d341b8-b2ab-42ce-91b3-a9b4b296d411  6b70ecb7-5c0b-4b8c-8693-80e59d708770   \n",
       "1  a8d341b8-b2ab-42ce-91b3-a9b4b296d411  c6b4d6c1-5412-4606-b701-fec6cc877909   \n",
       "2  a8d341b8-b2ab-42ce-91b3-a9b4b296d411  8cc164b3-c51c-4671-a40e-aec2cd93bf49   \n",
       "3  a8d341b8-b2ab-42ce-91b3-a9b4b296d411  9a9ada38-58cf-43be-82d2-27449a7dc9a4   \n",
       "4  a8d341b8-b2ab-42ce-91b3-a9b4b296d411  daf2de00-0447-4a32-8d80-36a3ce43ef51   \n",
       "\n",
       "    amount transaction_date   due_date      category   balance  credit_limit  \\\n",
       "0  2873.95       2024-10-16 2024-10-16        petrol  93440.05        150000   \n",
       "1  7388.38       2024-10-19 2024-10-19         solar  88925.62        150000   \n",
       "2  7645.70       2024-10-09 2024-10-09        petrol  88668.30        150000   \n",
       "3  6699.36       2024-10-30 2024-10-30        petrol  96314.00        150000   \n",
       "4   787.40       2024-10-24 2024-10-24  subscription  96314.00        150000   \n",
       "\n",
       "  transaction_month due_month  credit_util  \n",
       "0               Oct       Oct        0.623  \n",
       "1               Oct       Oct        0.593  \n",
       "2               Oct       Oct        0.591  \n",
       "3               Oct       Oct        0.642  \n",
       "4               Oct       Oct        0.642  "
      ]
     },
     "execution_count": 50,
     "metadata": {},
     "output_type": "execute_result"
    }
   ],
   "source": [
    "clean_df['credit_util'] = (clean_df['balance'] / clean_df['credit_limit']).round(3)\n",
    "\n",
    "clean_df.head()"
   ]
  },
  {
   "cell_type": "markdown",
   "id": "8154182e",
   "metadata": {},
   "source": [
    "> The credit utilization score was calculated using the *balance* divided by the *credit_limit*; it is a key indicator of how much credit a user is using relative to how much is available. Values closer to 1 suggests the user is dependent on credit while values closer to 0 indicates a responsible use of credit."
   ]
  },
  {
   "cell_type": "code",
   "execution_count": 51,
   "id": "174f00f4",
   "metadata": {},
   "outputs": [
    {
     "data": {
      "text/plain": [
       "count    5398.000000\n",
       "mean        0.494203\n",
       "std         0.269402\n",
       "min         0.001000\n",
       "25%         0.281000\n",
       "50%         0.476000\n",
       "75%         0.714000\n",
       "max         0.996000\n",
       "Name: credit_util, dtype: float64"
      ]
     },
     "execution_count": 51,
     "metadata": {},
     "output_type": "execute_result"
    }
   ],
   "source": [
    "clean_df['credit_util'].describe()"
   ]
  },
  {
   "cell_type": "markdown",
   "id": "4cac5ae2",
   "metadata": {},
   "source": [
    "> Running the describe method on the *credit_util* feature shows that 25% of users are heavily dependent on credit using at least 71.4% of the credit, this signals high risk of not repaying the loan"
   ]
  },
  {
   "cell_type": "code",
   "execution_count": 63,
   "id": "9c9cd6fd",
   "metadata": {},
   "outputs": [],
   "source": [
    "def utilization_category(x):\n",
    "    if x < 0.3:\n",
    "        return 'Low'\n",
    "    elif x <= 0.7:\n",
    "        return 'Medium'\n",
    "    else:\n",
    "        return 'High'\n",
    "    \n",
    "clean_df['util_level'] = clean_df['credit_util'].apply(utilization_category)"
   ]
  },
  {
   "cell_type": "code",
   "execution_count": 67,
   "id": "eed31026",
   "metadata": {},
   "outputs": [
    {
     "data": {
      "image/png": "[encoded data removed]",
      "text/plain": [
       "<Figure size 640x480 with 1 Axes>"
      ]
     },
     "metadata": {},
     "output_type": "display_data"
    }
   ],
   "source": [
    "plt.pie(clean_df['util_level'].value_counts(),\n",
    "        labels=clean_df['util_level'].value_counts().index,\n",
    "        autopct='%1.1f%%',\n",
    "        startangle=90);\n",
    "plt.title(\"Credit Utilization Levels Distribution\");"
   ]
  },
  {
   "cell_type": "markdown",
   "id": "29108f25",
   "metadata": {},
   "source": [
    "## Day 3: Scoring Logic\n",
    "\n",
    "1. Implement a basic credit scoring logic based on:\n",
    "   - Payment history (on-time vs late)\n",
    "   - Credit utilization\n",
    "   - Transaction consistency\n",
    "   - Category-level insights (e.g., solar usage)\n",
    "2. Normalize scores to a scale of 300–850.\n",
    "3. (Optional) Visualize score distribution or top scorers."
   ]
  },
  {
   "cell_type": "code",
   "execution_count": null,
   "id": "6eed869a",
   "metadata": {},
   "outputs": [],
   "source": [
    "# Your scoring logic here"
   ]
  }
 ],
 "metadata": {
  "kernelspec": {
   "display_name": "Python 3",
   "language": "python",
   "name": "python3"
  },
  "language_info": {
   "codemirror_mode": {
    "name": "ipython",
    "version": 3
   },
   "file_extension": ".py",
   "mimetype": "text/x-python",
   "name": "python",
   "nbconvert_exporter": "python",
   "pygments_lexer": "ipython3",
   "version": "3.12.2"
  }
 },
 "nbformat": 4,
 "nbformat_minor": 5
}
